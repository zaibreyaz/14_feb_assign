{
 "cells": [
  {
   "cell_type": "code",
   "execution_count": null,
   "id": "4341665d-b915-4e08-b73a-b33933b9dfa4",
   "metadata": {},
   "outputs": [],
   "source": [
    "\"\"\"Q1. What is multithreading in python? why is it used? Name the module used to handle threads in python.\n",
    "\n",
    "    Ans: Multithreading in Python refers to the ability to run multiple threads (smaller units of execution) concurrently within a single process. \n",
    "        Each thread can perform a separate task, making it possible to execute multiple tasks simultaneously. Multithreading is useful in situations \n",
    "        where a program needs to perform multiple tasks at once, or when a task can be split into multiple subtasks that can be executed concurrently.\n",
    "\n",
    "        Multithreading in Python is used to improve the performance of applications by allowing them to make better use of available system resources. \n",
    "        By dividing a program into multiple threads, a program can make use of multiple CPUs or CPU cores, which can speed up the program's execution.\n",
    "\n",
    "        The module used to handle threads in Python is called \"threading\". \n",
    "\"\"\""
   ]
  },
  {
   "cell_type": "code",
   "execution_count": null,
   "id": "8f1a366c-b32a-4a40-a6c8-53fe50ed0ed1",
   "metadata": {},
   "outputs": [],
   "source": [
    "\"\"\"Q2. Why threading module used? write the use of the following functions:\n",
    "        1.activeCount()\n",
    "        2.currentThread()\n",
    "        3.enumerate()\n",
    "        \n",
    "        \n",
    "    Ans: Threading module provides a way to create and manage threads in a Python program. The \"threading\" module allows you to create new threads, start them, \n",
    "            stop them, and manage them. You can also use the \"threading\" module to synchronize access to shared resources, so that multiple threads do not access \n",
    "            the same resource at the same time.\n",
    "            \n",
    "        The uses of the following functions are: \n",
    "            1. activeCount(): This method is used to determine the number of active threads in a program, which can aid in debugging, monitoring, \n",
    "                                optimizing, and synchronizing multi-threaded applications.\n",
    "            2. currentThread(): This method is used to get the currently executing thread object. This can be useful for debugging, identifying threads, \n",
    "                                and synchronizing thread execution in a multi-threaded program.\n",
    "            3. enumerate(): This method is used to add a counter to an iterable object, such as a list or tuple, to easily keep track of the current index \n",
    "                            while iterating over it. This can simplify code and make it more readable, especially when working with complex data structures.\n",
    "        \n",
    "\"\"\""
   ]
  },
  {
   "cell_type": "code",
   "execution_count": null,
   "id": "f107d50d-4bd0-4b1e-872b-b0043f6f07a9",
   "metadata": {},
   "outputs": [],
   "source": [
    "\"\"\"Q3. Explain the following functions:\n",
    "    \n",
    "    1.run(): It is used to define the code that a thread should execute when started. \n",
    "            The run() function can be overridden in a subclass of Thread to define custom thread behavior.\n",
    "    2.start():It is used to start a new thread and execute the code defined in the run() method.\n",
    "                When start() is called, a new thread is created and begins executing the run() method.\n",
    "    3.join(): It is used to wait for a thread to complete its execution before continuing with the main program. \n",
    "                The join() method blocks the main thread until the target thread has finished executing.\n",
    "    4.isAlive(): It is used to check if a thread is still running or has completed its execution. The isAlive() method returns a boolean value \n",
    "                indicating whether the thread is still active or has completed its execution.\n",
    "\"\"\""
   ]
  },
  {
   "cell_type": "code",
   "execution_count": 1,
   "id": "16092aeb-ae6a-4fc4-9535-2d8847d3d60c",
   "metadata": {},
   "outputs": [],
   "source": [
    "\"\"\"Q4. Write a python program to create two threads. Thread one must print the list of squares and thread two must print the list of cubes.\"\"\"\n",
    "\n",
    "# Ans:\n",
    "import threading\n",
    "import logging\n",
    "logging.basicConfig(filename = 'test.log', level = logging.INFO)\n",
    "\n",
    "def squares():\n",
    "    for i in range(1, 11):\n",
    "        logging.info(f\"{i} squared is {i**2}\")\n",
    "\n",
    "def cubes():\n",
    "    for i in range(1, 11):\n",
    "        logging.info(f\"{i} cubed is {i**3}\")\n",
    "\n",
    "thread1 = threading.Thread(target=squares)\n",
    "thread2 = threading.Thread(target=cubes)\n",
    "\n",
    "thread1.start()\n",
    "thread2.start()\n",
    "\n",
    "thread1.join()\n",
    "thread2.join()\n",
    "\n",
    "logging.info(\"Done\")\n",
    "logging.shutdown()"
   ]
  },
  {
   "cell_type": "code",
   "execution_count": null,
   "id": "c087adb4-ac71-43d2-a54c-1903f9df814e",
   "metadata": {},
   "outputs": [],
   "source": [
    "\"\"\"Q5. State advantages and disadvantages of multithreading\n",
    "\n",
    "    Ans: Advantages: \n",
    "            1.Improved Performance.\n",
    "            2.Enhanced Responsiveness.\n",
    "            3.Efficient Resource Sharing.\n",
    "            4.Simplified Design.\n",
    "        Disadvantages:\n",
    "            1.Increased Complexity of an application.\n",
    "            2.Resource Contention.\n",
    "            3.Difficulty in Debugging.\n",
    "\"\"\""
   ]
  },
  {
   "cell_type": "code",
   "execution_count": null,
   "id": "e7b28394-2e1f-4251-81b6-f91b8a2f0d71",
   "metadata": {},
   "outputs": [],
   "source": [
    "\"\"\"Q6. Explain deadlocks and race conditions.\n",
    "\n",
    "    Ans: Deadlocks and race conditions are two common issues that can occur in multithreaded applications, and they can cause unexpected and hard-to-reproduce problems.\n",
    "\n",
    "         Deadlock occurs when two or more threads are waiting for each other to release resources that they need to proceed. \n",
    "         It's like a traffic jam where no car can move because each car is waiting for the other to move first. In programming, \n",
    "         it can lead to a situation where two or more threads are stuck, and the program stops responding.\n",
    "\n",
    "         Race conditions, on the other hand, occur when two or more threads are accessing the same shared resource, \n",
    "         and the final outcome depends on the order in which the threads execute. It's like two people trying to use the same sink to wash their hands. \n",
    "         If they both try to use the sink at the same time, they can interfere with each other, and the result can be unpredictable. \n",
    "         In programming, it can lead to inconsistent and incorrect results.\n",
    "\"\"\""
   ]
  }
 ],
 "metadata": {
  "kernelspec": {
   "display_name": "Python 3 (ipykernel)",
   "language": "python",
   "name": "python3"
  },
  "language_info": {
   "codemirror_mode": {
    "name": "ipython",
    "version": 3
   },
   "file_extension": ".py",
   "mimetype": "text/x-python",
   "name": "python",
   "nbconvert_exporter": "python",
   "pygments_lexer": "ipython3",
   "version": "3.10.8"
  }
 },
 "nbformat": 4,
 "nbformat_minor": 5
}
